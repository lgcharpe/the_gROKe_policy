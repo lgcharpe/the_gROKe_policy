{
 "cells": [
  {
   "cell_type": "code",
   "execution_count": 1,
   "id": "92284b0d",
   "metadata": {},
   "outputs": [],
   "source": [
    "import pandas as pd\n",
    "\n",
    "from matplotlib import pyplot as plt\n",
    "from pymgrid import Microgrid\n",
    "from pymgrid.envs import DiscreteMicrogridEnv\n",
    "from pymgrid.algos import RuleBasedControl\n",
    "import gym"
   ]
  },
  {
   "cell_type": "code",
   "execution_count": 2,
   "id": "8f8472a1",
   "metadata": {},
   "outputs": [],
   "source": [
    "import numpy as np\n",
    "import yaml\n",
    "\n",
    "from pymgrid.microgrid import DEFAULT_HORIZON\n",
    "from pymgrid.modules.base import BaseTimeSeriesMicrogridModule\n",
    "\n",
    "\n",
    "class RenewableModuleCustom(BaseTimeSeriesMicrogridModule):\n",
    "    \"\"\"\n",
    "    A renewable energy module.\n",
    "\n",
    "    The classic examples of renewables are photovoltaics (PV) and wind turbines.\n",
    "\n",
    "    Parameters\n",
    "    ----------\n",
    "    time_series : array-like, shape (n_steps, )\n",
    "        Time series of renewable production.\n",
    "\n",
    "    forecaster : callable, float, \"oracle\", or None, default None.\n",
    "        Function that gives a forecast n-steps ahead.\n",
    "\n",
    "        * If ``callable``, must take as arguments ``(val_c: float, val_{c+n}: float, n: int)``, where\n",
    "\n",
    "          * ``val_c`` is the current value in the time series: ``self.time_series[self.current_step]``\n",
    "\n",
    "          * ``val_{c+n}`` is the value in the time series n steps in the future\n",
    "\n",
    "          * n is the number of steps in the future at which we are forecasting.\n",
    "\n",
    "          The output ``forecast = forecaster(val_c, val_{c+n}, n)`` must have the same sign\n",
    "          as the inputs ``val_c`` and ``val_{c+n}``.\n",
    "\n",
    "        * If ``float``, serves as a standard deviation for a mean-zero gaussian noise function\n",
    "          that is added to the true value.\n",
    "\n",
    "        * If ``\"oracle\"``, gives a perfect forecast.\n",
    "\n",
    "        * If ``None``, no forecast.\n",
    "\n",
    "    forecast_horizon : int.\n",
    "        Number of steps in the future to forecast. If forecaster is None, ignored and 0 is returned.\n",
    "\n",
    "    forecaster_increase_uncertainty : bool, default False\n",
    "        Whether to increase uncertainty for farther-out dates if using a GaussianNoiseForecaster. Ignored otherwise.\n",
    "\n",
    "    provided_energy_name: str, default \"renewable_used\"\n",
    "        Name of the energy provided by this module, to be used in logging.\n",
    "\n",
    "    raise_errors : bool, default False\n",
    "        Whether to raise errors if bounds are exceeded in an action.\n",
    "        If False, actions are clipped to the limit possible.\n",
    "\n",
    "    \"\"\"\n",
    "    module_type = ('renewable', 'flex')\n",
    "    yaml_tag = u\"!RenewableModule\"\n",
    "    yaml_loader = yaml.SafeLoader\n",
    "    yaml_dumper = yaml.SafeDumper\n",
    "\n",
    "    state_components = np.array([\"renewable\"], dtype=object)\n",
    "\n",
    "    def __init__(self,\n",
    "                 time_series,\n",
    "                 raise_errors=False,\n",
    "                 forecaster=None,\n",
    "                 forecast_horizon=DEFAULT_HORIZON,\n",
    "                 forecaster_increase_uncertainty=False,\n",
    "                 forecaster_relative_noise=False,\n",
    "                 initial_step=0,\n",
    "                 final_step=-1,\n",
    "                 normalized_action_bounds=(0, 1),\n",
    "                 provided_energy_name='renewable_used',\n",
    "                 operating_cost=0.0):\n",
    "        super().__init__(\n",
    "            time_series,\n",
    "            raise_errors,\n",
    "            forecaster=forecaster,\n",
    "            forecast_horizon=forecast_horizon,\n",
    "            forecaster_increase_uncertainty=forecaster_increase_uncertainty,\n",
    "            #forecaster_relative_noise=forecaster_relative_noise,\n",
    "            initial_step=initial_step,\n",
    "            final_step=final_step,\n",
    "            normalized_action_bounds=normalized_action_bounds,\n",
    "            provided_energy_name=provided_energy_name,\n",
    "            absorbed_energy_name=None\n",
    "        )\n",
    "        self.operating_cost = operating_cost\n",
    "\n",
    "    def step(self, action):\n",
    "        \"\"\"\n",
    "        Take one step in the module, attempting to draw or send ``action`` amount of energy.\n",
    "\n",
    "        Parameters\n",
    "        ----------\n",
    "        action : float or np.ndarray, shape (1,)\n",
    "            The amount of energy to draw or send.\n",
    "\n",
    "            If ``normalized``, the action is assumed to be normalized and is un-normalized into the range\n",
    "            [:attr:`.BaseModule.min_act`, :attr:`.BaseModule.max_act`].\n",
    "\n",
    "            If the **unnormalized** action is positive, the module acts as a source and provides energy to the\n",
    "            microgrid. Otherwise, the module acts as a sink and absorbs energy.\n",
    "\n",
    "            If the unnormalized action implies acting as a sink and ``is_sink`` is False -- or the converse -- an\n",
    "            ``AssertionError`` is raised.\n",
    "\n",
    "        normalized : bool, default True\n",
    "            Whether ``action`` is normalized. If True, action is assumed to be normalized and is un-normalized into the\n",
    "            range [:attr:`.BaseModule.min_act`, :attr:`.BaseModule.max_act`].\n",
    "\n",
    "        Raises\n",
    "        ------\n",
    "        AssertionError\n",
    "            If action implies acting as a source and module is not a source. Likewise if action implies acting as a\n",
    "            sink and module is not a sink.\n",
    "\n",
    "        Returns\n",
    "        -------\n",
    "        observation : np.ndarray\n",
    "            State of the module after taking action ``action``.\n",
    "        reward : float\n",
    "            Reward/cost after taking the action.\n",
    "        done : bool\n",
    "            Whether the module terminates.\n",
    "        info : dict\n",
    "            Additional information from this step.\n",
    "            Will include either``provided_energy`` or ``absorbed_energy`` as a key, denoting the amount of energy\n",
    "            this module provided to or absorbed from the microgrid.\n",
    "\n",
    "        \"\"\"\n",
    "\n",
    "        if action == 1:\n",
    "            reward, done, info = self.update(self.max_production, as_source=True)\n",
    "        else:\n",
    "            reward, done, info = self.update(0, as_source=True)\n",
    "\n",
    "        state_dict = self.state_dict()\n",
    "        self._log(state_dict, reward=reward, **info)\n",
    "        self._update_step()\n",
    "\n",
    "        obs = self.to_normalized(self.state, obs=True)\n",
    "\n",
    "        return obs, reward, done, info\n",
    "\n",
    "    def update(self, external_energy_change, as_source=False, as_sink=False):\n",
    "        assert as_source, f'Class {self.__class__.__name__} can only be used as a source.'\n",
    "        assert external_energy_change <= self.current_renewable, f'Cannot provide more than {self.current_renewable}'\n",
    "\n",
    "        info = {'provided_energy': external_energy_change,\n",
    "                'curtailment': self.current_renewable-external_energy_change}\n",
    "\n",
    "        reward = -1.0 * self.operating_cost * external_energy_change\n",
    "\n",
    "        return reward, self._done(), info\n",
    "\n",
    "    @property\n",
    "    def max_production(self):\n",
    "        return self.current_renewable\n",
    "\n",
    "    @property\n",
    "    def current_renewable(self):\n",
    "        \"\"\"\n",
    "        Current renewable production.\n",
    "\n",
    "        Returns\n",
    "        -------\n",
    "        renewable : float\n",
    "            Renewable production.\n",
    "\n",
    "        \"\"\"\n",
    "        return self._time_series[self._current_step].item()\n",
    "\n",
    "    @property\n",
    "    def is_source(self):\n",
    "        return True\n",
    "\n",
    "    @property\n",
    "    def production_marginal_cost(self):\n",
    "        return self.operating_cost"
   ]
  },
  {
   "cell_type": "code",
   "execution_count": 45,
   "id": "58118f63-9d7e-4a33-a984-5d0d0b9f29f9",
   "metadata": {},
   "outputs": [],
   "source": [
    "from pymgrid.modules.grid_module import GridModule\n",
    "\n",
    "class GridModuleCustom(GridModule):\n",
    "\n",
    "    module_type = ('grid', 'controllable')\n",
    "\n",
    "    yaml_tag = u\"!GridModule\"\n",
    "    yaml_loader = yaml.SafeLoader\n",
    "    yaml_dumper = yaml.SafeDumper\n",
    "\n",
    "    state_components = np.array(['import_price', 'export_price', 'co2_per_kwh', 'grid_status'], dtype=object)\n",
    "\n",
    "    def step(self, unbalanced_load):\n",
    "\n",
    "        if unbalanced_load > 0:\n",
    "            reward, done, info = self.update(unbalanced_load, as_sink=True)\n",
    "        else:\n",
    "            reward, done, info = self.update(-unbalanced_load, as_source=True) \n",
    "\n",
    "        state_dict = self.state_dict()\n",
    "        self._log(state_dict, reward=reward, **info)\n",
    "        self._update_step()\n",
    "\n",
    "        obs = self.to_normalized(self.state, obs=True)\n",
    "\n",
    "        return obs, reward, done, info"
   ]
  },
  {
   "cell_type": "code",
   "execution_count": 46,
   "id": "5c75cb16-c236-42d5-9f07-190bff8b2e3c",
   "metadata": {},
   "outputs": [],
   "source": [
    "from pymgrid.modules.genset_module import GensetModule\n",
    "\n",
    "class GensetModuleDiscrete(GensetModule):\n",
    "\n",
    "    module_type = 'genset', 'flex'\n",
    "    yaml_tag = f\"!Genset\"\n",
    "    yaml_dumper = yaml.SafeDumper\n",
    "    yaml_loader = yaml.SafeLoader\n",
    "\n",
    "    _energy_pos = 1\n",
    "\n",
    "    def step(self, action):\n",
    "        \"\"\"\n",
    "        Take one step in the module, attempting to draw or send ``action`` amount of energy.\n",
    "\n",
    "        Parameters\n",
    "        ----------\n",
    "        action : float or np.ndarray, shape (1,)\n",
    "            The amount of energy to draw or send.\n",
    "\n",
    "            If ``normalized``, the action is assumed to be normalized and is un-normalized into the range\n",
    "            [:attr:`.BaseModule.min_act`, :attr:`.BaseModule.max_act`].\n",
    "\n",
    "            If the **unnormalized** action is positive, the module acts as a source and provides energy to the\n",
    "            microgrid. Otherwise, the module acts as a sink and absorbs energy.\n",
    "\n",
    "            If the unnormalized action implies acting as a sink and ``is_sink`` is False -- or the converse -- an\n",
    "            ``AssertionError`` is raised.\n",
    "\n",
    "        normalized : bool, default True\n",
    "            Whether ``action`` is normalized. If True, action is assumed to be normalized and is un-normalized into the\n",
    "            range [:attr:`.BaseModule.min_act`, :attr:`.BaseModule.max_act`].\n",
    "\n",
    "        Raises\n",
    "        ------\n",
    "        AssertionError\n",
    "            If action implies acting as a source and module is not a source. Likewise if action implies acting as a\n",
    "            sink and module is not a sink.\n",
    "\n",
    "        Returns\n",
    "        -------\n",
    "        observation : np.ndarray\n",
    "            State of the module after taking action ``action``.\n",
    "        reward : float\n",
    "            Reward/cost after taking the action.\n",
    "        done : bool\n",
    "            Whether the module terminates.\n",
    "        info : dict\n",
    "            Additional information from this step.\n",
    "            Will include either``provided_energy`` or ``absorbed_energy`` as a key, denoting the amount of energy\n",
    "            this module provided to or absorbed from the microgrid.\n",
    "\n",
    "        \"\"\"\n",
    "\n",
    "        if action == 1:\n",
    "            reward, done, info = self.update(self.max_production, as_source=True)\n",
    "        else:\n",
    "            reward, done, info = self.update(0, as_source=True)\n",
    "\n",
    "        state_dict = self.state_dict()\n",
    "        self._log(state_dict, reward=reward, **info)\n",
    "        self._update_step()\n",
    "\n",
    "        obs = self.to_normalized(self.state, obs=True)\n",
    "\n",
    "        return obs, reward, done, info\n",
    "        "
   ]
  },
  {
   "cell_type": "code",
   "execution_count": 47,
   "id": "101d3a94-3c5d-4284-a37a-39dcb4294b94",
   "metadata": {},
   "outputs": [],
   "source": [
    "from pymgrid.microgrid.utils.step import MicrogridStep\n",
    "\n",
    "class Microgrid2(Microgrid):\n",
    "\n",
    "    yaml_tag = u\"!Microgrid\"\n",
    "    \"\"\"Tag used for yaml serialization.\"\"\"\n",
    "    yaml_dumper = yaml.SafeDumper\n",
    "    yaml_loader = yaml.SafeLoader\n",
    "\n",
    "    def run(self, control, normalized=True):\n",
    "        \"\"\"\n",
    "\n",
    "        Run the microgrid for a single step.\n",
    "\n",
    "        Parameters\n",
    "        ----------\n",
    "        control : dict[str, list[float]]\n",
    "            Actions to pass to each fixed module.\n",
    "        normalized : bool, default True\n",
    "            Whether ``control`` is a normalized value or not. If not, each module de-normalizes its respective action.\n",
    "\n",
    "        Returns\n",
    "        -------\n",
    "        observation : dict[str, list[float]]\n",
    "            Observations of each module after using the passed ``control``.\n",
    "        reward : float\n",
    "            Reward/cost of running the microgrid. A positive value implies revenue while a negative\n",
    "            value is a cost.\n",
    "        done : bool\n",
    "            Whether the microgrid terminates.\n",
    "        info : dict\n",
    "            Additional information from this step.\n",
    "\n",
    "        \"\"\"\n",
    "        control_copy = control.copy()\n",
    "        microgrid_step = MicrogridStep(reward_shaping_func=self.reward_shaping_func, cost_info=self.get_cost_info())\n",
    "\n",
    "        for name, modules in self.fixed.iterdict():\n",
    "            for module in modules:\n",
    "                microgrid_step.append(name, *module.step(0.0, normalized=False))\n",
    "\n",
    "        fixed_provided, fixed_consumed, _, _ = microgrid_step.balance()\n",
    "        log_dict = self._get_log_dict(fixed_provided, fixed_consumed, prefix='fixed')\n",
    "\n",
    "        for name, modules in self.flex.iterdict():\n",
    "            try:\n",
    "                module_controls = control_copy.pop(name)\n",
    "            except KeyError:\n",
    "                raise ValueError(f'Control for module \"{name}\" not found. Available controls:\\n\\t{control.keys()}')\n",
    "            else:\n",
    "                try:\n",
    "                    _zip = zip(modules, module_controls)\n",
    "                except TypeError:\n",
    "                    _zip = zip(modules, [module_controls])\n",
    "\n",
    "            for module, _control in _zip:\n",
    "                module_step = module.step(_control)  # obs, reward, done, info.\n",
    "                microgrid_step.append(name, *module_step)\n",
    "\n",
    "        flex_fixed_provided, flex_fixed_consumed, _, _ = microgrid_step.balance()\n",
    "        difference = flex_fixed_provided - flex_fixed_consumed\n",
    "\n",
    "        log_dict = self._get_log_dict(\n",
    "            flex_fixed_provided-fixed_provided,\n",
    "            flex_fixed_consumed-fixed_consumed,\n",
    "            log_dict=log_dict,\n",
    "            prefix='flex'\n",
    "        )\n",
    "\n",
    "        if len(control_copy) > 0:\n",
    "            warn(f'\\nIgnoring the following keys in passed control:\\n {list(control_copy.keys())}')\n",
    "\n",
    "        # if difference > 0, have an excess. Try to use flex sinks to dissapate\n",
    "        # otherwise, insufficient. Use flex sources to make up\n",
    "\n",
    "        for name, modules in self.controllable.iterdict():\n",
    "            print(name)\n",
    "            for module in modules:\n",
    "                module_step = module.step(difference)\n",
    "                microgrid_step.append(name, *module_step)\n",
    "\n",
    "        print(module_step)\n",
    "\n",
    "        provided, consumed, reward, shaped_reward = microgrid_step.balance()\n",
    "\n",
    "        log_dict = self._get_log_dict(\n",
    "            provided-flex_fixed_provided,\n",
    "            consumed-flex_fixed_consumed,\n",
    "            log_dict=log_dict,\n",
    "            prefix='controllable'\n",
    "        )\n",
    "\n",
    "        log_dict = self._get_log_dict(provided, consumed, log_dict=log_dict, prefix='overall')\n",
    "\n",
    "        self._balance_logger.log(reward=reward, shaped_reward=shaped_reward, **log_dict)\n",
    "\n",
    "        if not np.isclose(provided, consumed):\n",
    "            raise RuntimeError('Microgrid modules unable to balance energy production with consumption.\\n'\n",
    "                               '')\n",
    "\n",
    "        return microgrid_step.output()\n"
   ]
  },
  {
   "cell_type": "code",
   "execution_count": 48,
   "id": "3a101021-da6c-4411-87a0-2596eed7411d",
   "metadata": {},
   "outputs": [
    {
     "name": "stdout",
     "output_type": "stream",
     "text": [
      "BatteryModule(min_capacity=15, max_capacity=285, max_charge=2.5, max_discharge=2.5, efficiency=0.99, battery_cost_cycle=0.95, battery_transition_model=BatteryTransitionModel(), init_charge=None, init_soc=0.1, initial_step=0, normalized_action_bounds=<class 'tuple'>, raise_errors=False)\n",
      "GensetModuleDiscrete(running_min_production=0, running_max_production=600, genset_cost=0.55, co2_per_unit=0.0, cost_per_unit_co2=0.0, start_up_time=0, wind_down_time=0, allow_abortion=True, init_start_up=True, initial_step=0, normalized_action_bounds=<class 'tuple'>, raise_errors=False, provided_energy_name=genset_production)\n",
      "RenewableModuleCustom(time_series=<class 'numpy.ndarray'>, raise_errors=False, forecaster=NoForecaster, forecast_horizon=0, forecaster_increase_uncertainty=False, forecaster_relative_noise=False, initial_step=0, final_step=8640, normalized_action_bounds=<class 'tuple'>, provided_energy_name=renewable_used, operating_cost=0.15)\n",
      "RenewableModuleCustom(time_series=<class 'numpy.ndarray'>, raise_errors=False, forecaster=NoForecaster, forecast_horizon=0, forecaster_increase_uncertainty=False, forecaster_relative_noise=False, initial_step=0, final_step=8640, normalized_action_bounds=<class 'tuple'>, provided_energy_name=renewable_used, operating_cost=0.085)\n",
      "LoadModule(time_series=<class 'numpy.ndarray'>, forecaster=NoForecaster, forecast_horizon=0, forecaster_increase_uncertainty=False, forecaster_relative_noise=False, initial_step=0, final_step=8640, normalized_action_bounds=<class 'tuple'>, raise_errors=False)\n"
     ]
    }
   ],
   "source": [
    "from pymgrid.modules import (\n",
    "    BatteryModule,\n",
    "    LoadModule,\n",
    "    RenewableModule,\n",
    "    GridModule,\n",
    "    GensetModule)\n",
    "\n",
    "import pandas as pd\n",
    "import numpy as np\n",
    "pd.set_option('display.max_columns', None)\n",
    "\n",
    "battery = BatteryModule(\n",
    "    min_capacity=15,\n",
    "    max_capacity=285,\n",
    "    max_charge=2.5,\n",
    "    max_discharge=2.5,\n",
    "    efficiency=0.99,\n",
    "    battery_cost_cycle=0.95,\n",
    "    init_soc=0.1\n",
    ")\n",
    "print(battery)\n",
    "\n",
    "gas_turbine_generator = GensetModuleDiscrete(\n",
    "    running_min_production=0,\n",
    "    running_max_production=600,\n",
    "    genset_cost=0.55\n",
    ")\n",
    "\n",
    "print(gas_turbine_generator)\n",
    "\n",
    "data = pd.read_csv(\"../data/EnergyGenerationRenewable_round.csv\")\n",
    "time_solar = data[\"Solar Generation\"].values\n",
    "time_wind = data[\"Wind Generation\"].values\n",
    "\n",
    "solar_pv = RenewableModuleCustom(\n",
    "    time_series=time_solar,\n",
    "    operating_cost=0.15\n",
    ")\n",
    "\n",
    "print(solar_pv)\n",
    "\n",
    "wind_turbine = RenewableModuleCustom(\n",
    "    time_series=time_wind,\n",
    "    operating_cost=0.085\n",
    ")\n",
    "\n",
    "print(wind_turbine)\n",
    "\n",
    "buy_price = pd.read_csv(\"../data/rate_consumption_charge.csv\")[\"Grid Elecricity Price（$/kWh）\"].values\n",
    "sell_price = np.ones(len(buy_price)) * .2\n",
    "co2 = np.zeros(len(buy_price))\n",
    "\n",
    "time_grid = np.concatenate([buy_price[:, None], sell_price[:, None], co2[:, None]], axis=1)\n",
    "\n",
    "grid = GridModuleCustom(\n",
    "    time_series=time_grid,\n",
    "    max_export=10000,\n",
    "    max_import=10000\n",
    ")\n",
    "\n",
    "time_load = pd.read_csv(\"../data/Load25Households.csv\")[\"load\"].values[:8640]\n",
    "\n",
    "load = LoadModule(\n",
    "    time_series=time_load\n",
    ")\n",
    "\n",
    "print(load)\n",
    "\n",
    "modules = [\n",
    "    #battery,\n",
    "    gas_turbine_generator,\n",
    "    (\"solar_pv\", solar_pv),\n",
    "    (\"wind_turbine\", wind_turbine),\n",
    "    grid,\n",
    "    load\n",
    "]"
   ]
  },
  {
   "cell_type": "code",
   "execution_count": 49,
   "id": "8d59e6ce-e394-4b7e-b179-7dd8685accf5",
   "metadata": {},
   "outputs": [
    {
     "data": {
      "text/plain": [
       "array([0.9807642 , 0.68482974])"
      ]
     },
     "execution_count": 49,
     "metadata": {},
     "output_type": "execute_result"
    }
   ],
   "source": [
    "gas_turbine_generator.sample_action()"
   ]
  },
  {
   "cell_type": "code",
   "execution_count": 50,
   "id": "7e2443e6-3752-475f-a0c8-0446e201492a",
   "metadata": {},
   "outputs": [
    {
     "data": {
      "text/plain": [
       "0.48093190148436094"
      ]
     },
     "execution_count": 50,
     "metadata": {},
     "output_type": "execute_result"
    }
   ],
   "source": [
    "grid.sample_action()"
   ]
  },
  {
   "cell_type": "code",
   "execution_count": 51,
   "id": "b83764e4-3e82-47cc-9b2f-e9d7f123a59e",
   "metadata": {},
   "outputs": [
    {
     "data": {
      "text/plain": [
       "0.3921175181941505"
      ]
     },
     "execution_count": 51,
     "metadata": {},
     "output_type": "execute_result"
    }
   ],
   "source": [
    "solar_pv.sample_action()"
   ]
  },
  {
   "cell_type": "code",
   "execution_count": 52,
   "id": "cceee76f-9863-4477-adca-df1d5111b9b4",
   "metadata": {},
   "outputs": [
    {
     "data": {
      "text/plain": [
       "0.3431780161508694"
      ]
     },
     "execution_count": 52,
     "metadata": {},
     "output_type": "execute_result"
    }
   ],
   "source": [
    "wind_turbine.sample_action()"
   ]
  },
  {
   "cell_type": "code",
   "execution_count": 53,
   "id": "2df844fd-b5bd-44b0-8263-6fced98eaf76",
   "metadata": {},
   "outputs": [
    {
     "data": {
      "text/plain": [
       "0.7290497073840416"
      ]
     },
     "execution_count": 53,
     "metadata": {},
     "output_type": "execute_result"
    }
   ],
   "source": [
    "battery.sample_action()"
   ]
  },
  {
   "cell_type": "code",
   "execution_count": 54,
   "id": "4ad16ab2-0eb3-4c9d-917e-583122152705",
   "metadata": {},
   "outputs": [],
   "source": [
    "def cost_function(reward, info, cost_info):\n",
    "    if len(info) < 7:\n",
    "        return None\n",
    "    # Grid\n",
    "    if \"provided_energy\" in info[\"grid\"][0]:\n",
    "        E_u = 0.25 * info[\"grid\"][0][\"provided_energy\"]**2 * cost_info[\"grid\"][0][\"production_marginal_cost\"] / 1000 +  0.5 * info[\"grid\"][0][\"provided_energy\"] * cost_info[\"grid\"][0][\"production_marginal_cost\"]\n",
    "    else: \n",
    "        E_u = 0\n",
    "    if \"absorbed_energy\" in info[\"grid\"][0]:\n",
    "        S_u = info[\"grid\"][0][\"absorbed_energy\"] * cost_info[\"grid\"][0][\"absorption_marginal_cost\"]\n",
    "    else:\n",
    "        S_u = 0\n",
    "\n",
    "    # Solar\n",
    "    E_s = info[\"solar_pv\"][0][\"provided_energy\"]\n",
    "    C_s = cost_info[\"solar_pv\"][0][\"production_marginal_cost\"]\n",
    "\n",
    "    # Wind\n",
    "    E_w = info[\"wind_turbine\"][0][\"provided_energy\"]\n",
    "    C_w = cost_info[\"wind_turbine\"][0][\"production_marginal_cost\"]\n",
    "\n",
    "    # Generator\n",
    "    E_g = info[\"genset\"][0][\"provided_energy\"]\n",
    "    C_g = cost_info[\"genset\"][0][\"production_marginal_cost\"]\n",
    "\n",
    "    # Battery\n",
    "    E_b = info[\"battery\"][0][\"absorbed_energy\"] if \"absorbed_energy\" in info[\"battery\"][0] else info[\"battery\"][0][\"provided_energy\"]\n",
    "    C_b = cost_info[\"battery\"][0][\"production_marginal_cost\"]\n",
    "    \n",
    "    # Microgrid\n",
    "    O_m = E_s * C_s + E_w * C_w + E_g * C_g + E_b * C_b\n",
    "\n",
    "    reward = -(E_u + O_m - S_u) \n",
    "\n",
    "    return reward"
   ]
  },
  {
   "cell_type": "markdown",
   "id": "2714a850-6cbc-486a-ba6e-61eaca2166f4",
   "metadata": {},
   "source": [
    "# Reinforcement learning approach, Q learning"
   ]
  },
  {
   "cell_type": "code",
   "execution_count": 55,
   "id": "e447ce16-d31d-4008-9462-ddbb6d020452",
   "metadata": {},
   "outputs": [],
   "source": [
    "microgrid = Microgrid2(modules=modules, reward_shaping_func=cost_function, add_unbalanced_module=False)\n",
    "n_episodes = 8640\n",
    "max_iter_episode = 1\n",
    "exploration_proba = 1\n",
    "exploration_decreasing_decay = 0.001\n",
    "min_exploration_proba = 0.01\n",
    "gamma = 0.99\n",
    "lr = 0.1\n",
    "rewards_per_episode = list()"
   ]
  },
  {
   "cell_type": "code",
   "execution_count": 56,
   "id": "7d977d86-baf8-4f90-9c77-0a8b6cf87007",
   "metadata": {},
   "outputs": [
    {
     "name": "stdout",
     "output_type": "stream",
     "text": [
      "grid\n",
      "(array([0., 0., 0., 0.]), 103.85107367751044, False, {'absorbed_energy': 519.2553683875522, 'co2_production': 0.0})\n"
     ]
    },
    {
     "data": {
      "text/plain": [
       "({'load': [array([0.63730238])],\n",
       "  'genset': [array([1., 1., 0., 0.])],\n",
       "  'solar_pv': [array([0.00015451])],\n",
       "  'wind_turbine': [array([0.])],\n",
       "  'grid': [array([0., 0., 0., 0.])]},\n",
       " None,\n",
       " False,\n",
       " {'load': [{'absorbed_energy': 80.78077961244793}],\n",
       "  'genset': [{'provided_energy': 600, 'co2_production': 0.0}],\n",
       "  'solar_pv': [{'provided_energy': 0.036148, 'curtailment': 0.0}],\n",
       "  'wind_turbine': [{'provided_energy': 0.0, 'curtailment': 0.0}],\n",
       "  'grid': [{'absorbed_energy': 519.2553683875522, 'co2_production': 0.0}]})"
      ]
     },
     "execution_count": 56,
     "metadata": {},
     "output_type": "execute_result"
    }
   ],
   "source": [
    "microgrid.run({\"genset\": 1, \"solar_pv\": 1, \"wind_turbine\": 1})"
   ]
  },
  {
   "cell_type": "markdown",
   "id": "a285e0b5-4082-4206-8cf6-0cdc27947004",
   "metadata": {},
   "source": [
    "### Need to transform continues space to discrete"
   ]
  },
  {
   "cell_type": "code",
   "execution_count": 107,
   "id": "191907b0-6614-453a-a138-2a65b7942c8e",
   "metadata": {},
   "outputs": [],
   "source": [
    "DISCRETE_OS_SIZE = [1 for i in range(13)]\n",
    "discrete_os_win_size = (microgrid.observation_space.high - microgrid.observation_space.low)/DISCRETE_OS_SIZE"
   ]
  },
  {
   "cell_type": "code",
   "execution_count": 108,
   "id": "3c503575-9e9f-4bfc-818f-d536a32012ed",
   "metadata": {},
   "outputs": [],
   "source": [
    "q_table = np.random.uniform(low=0, high=1, size=(DISCRETE_OS_SIZE + [microgrid.action_space.n]))"
   ]
  },
  {
   "cell_type": "code",
   "execution_count": 122,
   "id": "5647b7b0-1a33-4d85-8666-f33e248f39ec",
   "metadata": {},
   "outputs": [],
   "source": [
    "def get_discrete_state(state):\n",
    "    discrete_state = (state - microgrid.observation_space.low-1)/discrete_os_win_size\n",
    "    return tuple(discrete_state.astype(int))"
   ]
  },
  {
   "cell_type": "code",
   "execution_count": 179,
   "id": "6816d966-1689-4112-943d-18c16e507e67",
   "metadata": {},
   "outputs": [
    {
     "name": "stdout",
     "output_type": "stream",
     "text": [
      "Breaking at ep: 8639; Reward: -163529.10681839535; Exploration Probability: 0.9444732156989419\n",
      "Breaking at ep: 8639; Reward: -114912.31290211035; Exploration Probability: 0.5469191634761105\n",
      "Breaking at ep: 8639; Reward: -166564.12685242758; Exploration Probability: 0.9796050657505865\n",
      "Breaking at ep: 8639; Reward: -119751.68041165208; Exploration Probability: 0.5735001190411833\n",
      "Breaking at ep: 8639; Reward: -90249.387935633; Exploration Probability: 0.2802517374938086\n",
      "Breaking at ep: 8639; Reward: -159450.32378368557; Exploration Probability: 0.9301852973006581\n",
      "Breaking at ep: 8639; Reward: -69889.79255473973; Exploration Probability: 0.056566574751160004\n",
      "Breaking at ep: 8639; Reward: -121551.09775949817; Exploration Probability: 0.5612774077091494\n",
      "Breaking at ep: 8639; Reward: -66326.7394406576; Exploration Probability: 0.03416584033001824\n",
      "Breaking at ep: 8639; Reward: -150385.7137273574; Exploration Probability: 0.829754082204131\n",
      "Breaking at ep: 8639; Reward: -103100.79832714103; Exploration Probability: 0.40998219878382614\n",
      "Breaking at ep: 8639; Reward: -115132.36795996616; Exploration Probability: 0.510024024895748\n",
      "Breaking at ep: 8639; Reward: -68662.12007005625; Exploration Probability: 0.057172124465278085\n",
      "Breaking at ep: 8639; Reward: -163167.83558646377; Exploration Probability: 0.9721598178378189\n",
      "Breaking at ep: 8639; Reward: -134734.26900477437; Exploration Probability: 0.7034784272781927\n",
      "Breaking at ep: 8639; Reward: -101521.60740916956; Exploration Probability: 0.41199728270772973\n",
      "Breaking at ep: 8639; Reward: -162985.7338275465; Exploration Probability: 0.9760181084496637\n",
      "Breaking at ep: 8639; Reward: -65024.805894699064; Exploration Probability: 0.021477160409867024\n",
      "Breaking at ep: 8639; Reward: -133893.89308638082; Exploration Probability: 0.6916336853238001\n",
      "Breaking at ep: 8639; Reward: -90980.11177477596; Exploration Probability: 0.306164936340666\n",
      "Breaking at ep: 8639; Reward: -68654.67174709175; Exploration Probability: 0.05169374634179369\n",
      "Breaking at ep: 8639; Reward: -158139.86800714687; Exploration Probability: 0.9246175933842723\n",
      "Breaking at ep: 8639; Reward: -131924.58437037162; Exploration Probability: 0.6704969946032225\n",
      "Breaking at ep: 8639; Reward: -88859.49183849075; Exploration Probability: 0.26814530895103694\n",
      "Breaking at ep: 8639; Reward: -98705.05741630976; Exploration Probability: 0.37019584282780826\n",
      "Breaking at ep: 8639; Reward: -104053.63863471767; Exploration Probability: 0.42558455853250987\n",
      "Breaking at ep: 8639; Reward: -96293.4819553473; Exploration Probability: 0.3542307252592728\n",
      "Breaking at ep: 8639; Reward: -92362.64987867244; Exploration Probability: 0.30952095652964484\n",
      "Breaking at ep: 8639; Reward: -99406.36312274725; Exploration Probability: 0.3712872691965178\n",
      "Breaking at ep: 8639; Reward: -92871.3751970581; Exploration Probability: 0.3337076825502274\n",
      "Breaking at ep: 8639; Reward: -144655.25999526525; Exploration Probability: 0.77906337213309\n",
      "Breaking at ep: 8639; Reward: -76862.74816001431; Exploration Probability: 0.14301693093923495\n",
      "Breaking at ep: 8639; Reward: -69159.67885980562; Exploration Probability: 0.048707063430435515\n",
      "Breaking at ep: 8639; Reward: -79338.07085069937; Exploration Probability: 0.15818872667323702\n",
      "Breaking at ep: 8639; Reward: -95589.86208942028; Exploration Probability: 0.31805425419042\n",
      "Breaking at ep: 8639; Reward: -122680.65744699872; Exploration Probability: 0.5693932599464778\n",
      "Breaking at ep: 8639; Reward: -107792.0544090609; Exploration Probability: 0.438055434680483\n",
      "Breaking at ep: 8639; Reward: -111925.72485392596; Exploration Probability: 0.4886429662261347\n",
      "Breaking at ep: 8639; Reward: -143167.4577331124; Exploration Probability: 0.7697893801709146\n",
      "Breaking at ep: 8639; Reward: -151334.77716150094; Exploration Probability: 0.8496847006180845\n",
      "Breaking at ep: 8639; Reward: -136674.67945127664; Exploration Probability: 0.7210845929061562\n",
      "Breaking at ep: 8639; Reward: -88599.32209358877; Exploration Probability: 0.27227454482242663\n",
      "Breaking at ep: 8639; Reward: -86311.6575356155; Exploration Probability: 0.23705407379282595\n",
      "Breaking at ep: 8639; Reward: -150120.52323532337; Exploration Probability: 0.8440768298837463\n",
      "Breaking at ep: 8639; Reward: -149691.2614116251; Exploration Probability: 0.8602001205827567\n",
      "Breaking at ep: 8639; Reward: -86139.472428134; Exploration Probability: 0.2576508232751826\n",
      "Breaking at ep: 8639; Reward: -93131.32904019713; Exploration Probability: 0.3261922254462305\n",
      "Breaking at ep: 8639; Reward: -76105.47212407574; Exploration Probability: 0.13205622670188055\n",
      "Breaking at ep: 8639; Reward: -155857.1335784766; Exploration Probability: 0.8766543681285276\n",
      "Breaking at ep: 8639; Reward: -106722.60833547504; Exploration Probability: 0.4421448469590096\n",
      "Breaking at ep: 8639; Reward: -82647.35154190025; Exploration Probability: 0.20155876704008646\n",
      "Breaking at ep: 8639; Reward: -73076.64033496914; Exploration Probability: 0.11631379305789513\n",
      "Breaking at ep: 8639; Reward: -83633.17204061616; Exploration Probability: 0.21713889958173316\n",
      "Breaking at ep: 8639; Reward: -99548.29645164218; Exploration Probability: 0.3815928278823988\n",
      "Breaking at ep: 8639; Reward: -111186.70578896032; Exploration Probability: 0.5004576348747366\n",
      "Breaking at ep: 8639; Reward: -151089.35166425517; Exploration Probability: 0.8543679125886546\n",
      "Breaking at ep: 8639; Reward: -86521.32347922215; Exploration Probability: 0.23609730576862942\n",
      "Breaking at ep: 8639; Reward: -88966.22085963546; Exploration Probability: 0.2559406776167569\n",
      "Breaking at ep: 8639; Reward: -85221.82728675228; Exploration Probability: 0.22615169302171534\n",
      "Breaking at ep: 8639; Reward: -153587.68178628598; Exploration Probability: 0.8538580911277562\n",
      "Breaking at ep: 8639; Reward: -74409.60884650302; Exploration Probability: 0.10215625339603307\n",
      "Breaking at ep: 8639; Reward: -80598.22704120366; Exploration Probability: 0.18698909401321584\n",
      "Breaking at ep: 8639; Reward: -128042.41841533445; Exploration Probability: 0.6429867363502499\n",
      "Breaking at ep: 8639; Reward: -105731.6193603985; Exploration Probability: 0.43604724394199057\n",
      "Breaking at ep: 8639; Reward: -160461.44045475015; Exploration Probability: 0.9548963203017771\n",
      "Breaking at ep: 8639; Reward: -79046.66524709412; Exploration Probability: 0.16414308262135657\n",
      "Breaking at ep: 8639; Reward: -110351.5957066677; Exploration Probability: 0.49064686755206743\n",
      "Breaking at ep: 8639; Reward: -81710.77957746781; Exploration Probability: 0.1917745091019717\n",
      "Breaking at ep: 8639; Reward: -84578.73352029016; Exploration Probability: 0.22576937436711442\n",
      "Breaking at ep: 8639; Reward: -108741.51827536088; Exploration Probability: 0.4555690993757663\n",
      "Breaking at ep: 8639; Reward: -121455.0058747587; Exploration Probability: 0.5714693368347266\n",
      "Breaking at ep: 8639; Reward: -125219.07344414011; Exploration Probability: 0.6238835092703612\n",
      "Breaking at ep: 8639; Reward: -82686.03077427656; Exploration Probability: 0.20294244992671573\n",
      "Breaking at ep: 8639; Reward: -92136.49895723861; Exploration Probability: 0.3177282666074527\n",
      "Breaking at ep: 8639; Reward: -70450.28838193252; Exploration Probability: 0.08617696910681938\n",
      "Breaking at ep: 8639; Reward: -109929.65270939097; Exploration Probability: 0.47381661457526325\n",
      "Breaking at ep: 8639; Reward: -78574.96747380238; Exploration Probability: 0.15834829110479132\n",
      "Breaking at ep: 8639; Reward: -73725.81232899897; Exploration Probability: 0.10946760373637077\n",
      "Breaking at ep: 8639; Reward: -128100.09554537988; Exploration Probability: 0.6522576191505395\n",
      "Breaking at ep: 8639; Reward: -97060.4101406823; Exploration Probability: 0.3560849144851086\n",
      "Breaking at ep: 8639; Reward: -91816.17282791749; Exploration Probability: 0.30102288138391675\n",
      "Breaking at ep: 8639; Reward: -142556.9829768436; Exploration Probability: 0.7586700620963562\n",
      "Breaking at ep: 8639; Reward: -130512.18393642799; Exploration Probability: 0.6664232890412811\n",
      "Breaking at ep: 8639; Reward: -159486.3707122611; Exploration Probability: 0.9380744827614841\n",
      "Breaking at ep: 8639; Reward: -67382.2261148713; Exploration Probability: 0.04924193645878838\n",
      "Breaking at ep: 8639; Reward: -89825.89602256812; Exploration Probability: 0.2808373889991501\n",
      "Breaking at ep: 8639; Reward: -73027.06844635654; Exploration Probability: 0.11108222177035643\n",
      "Breaking at ep: 8639; Reward: -76331.93483892409; Exploration Probability: 0.13343340117628055\n",
      "Breaking at ep: 8639; Reward: -156912.10765460128; Exploration Probability: 0.9081355452069165\n",
      "Breaking at ep: 8639; Reward: -144458.62715573757; Exploration Probability: 0.7878921704041401\n",
      "Breaking at ep: 8639; Reward: -91875.76645044275; Exploration Probability: 0.28668462802948635\n",
      "Breaking at ep: 8639; Reward: -106851.04430418515; Exploration Probability: 0.4673093647476293\n",
      "Breaking at ep: 8639; Reward: -103791.57535857164; Exploration Probability: 0.4296410273440623\n",
      "Breaking at ep: 8639; Reward: -77265.61919003108; Exploration Probability: 0.13576504064348183\n",
      "Breaking at ep: 8639; Reward: -117801.30498147187; Exploration Probability: 0.5589664006009832\n",
      "Breaking at ep: 8639; Reward: -138583.68630760864; Exploration Probability: 0.7547508950078032\n",
      "Breaking at ep: 8639; Reward: -156798.1248179367; Exploration Probability: 0.9087526822301901\n",
      "Breaking at ep: 8639; Reward: -76885.70117964476; Exploration Probability: 0.1425728862191421\n",
      "Breaking at ep: 8639; Reward: -153157.78484056605; Exploration Probability: 0.8551706346095137\n",
      "Breaking at ep: 8639; Reward: -114093.53303493986; Exploration Probability: 0.5000421414688414\n"
     ]
    }
   ],
   "source": [
    "for _ in range(100):\n",
    "    exploration_proba = np.random.uniform(0,1)\n",
    "    discrete_state = get_discrete_state(microgrid.reset())\n",
    "    for e in range(n_episodes): \n",
    "        done = False\n",
    "        if np.random.uniform(0,1) < exploration_proba:\n",
    "            action = microgrid.action_space.sample()\n",
    "        else:\n",
    "            action = np.argmax(q_table[discrete_state])\n",
    "            \n",
    "        observation, reward, done, info = microgrid.step(action)\n",
    "        new_discrete_state = get_discrete_state(observation)\n",
    "    \n",
    "        max_future_q = np.max(q_table[new_discrete_state])\n",
    "        current_q = q_table[discrete_state + (action,)]\n",
    "        \n",
    "        \n",
    "        new_q = (1 - lr) * current_q + lr * (reward + gamma * max_future_q)\n",
    "        q_table[discrete_state + (action,)] = new_q\n",
    "        discrete_state = new_discrete_state\n",
    "    \n",
    "        if done:\n",
    "            print(f\"Breaking at ep: {e}; Reward: {microgrid.log.loc[:, pd.IndexSlice['balance', :, 'shaped_reward']].sum().iloc[0]}; Exploration Probability: {exploration_proba}\")\n",
    "            break\n",
    "        #exploration_proba = max(min_exploration_proba, np.exp(-exploration_decreasing_decay*e))\n",
    "    "
   ]
  },
  {
   "cell_type": "code",
   "execution_count": 180,
   "id": "a0a8aa61-d211-496a-bf82-fc0ddb53d28c",
   "metadata": {},
   "outputs": [
    {
     "name": "stdout",
     "output_type": "stream",
     "text": [
      "Breaking at ep: 8639; Reward: -62407.4721363757; Exploration Probability: 0\n"
     ]
    }
   ],
   "source": [
    "exploration_proba = 0\n",
    "discrete_state = get_discrete_state(microgrid.reset())\n",
    "for e in range(n_episodes): \n",
    "    done = False\n",
    "    if np.random.uniform(0,1) < exploration_proba:\n",
    "        action = microgrid.action_space.sample()\n",
    "    else:\n",
    "        action = np.argmax(q_table[discrete_state])\n",
    "        \n",
    "    observation, reward, done, info = microgrid.step(action)\n",
    "    new_discrete_state = get_discrete_state(observation)\n",
    "\n",
    "    max_future_q = np.max(q_table[new_discrete_state])\n",
    "    current_q = q_table[discrete_state + (action,)]\n",
    "    \n",
    "    \n",
    "    new_q = (1 - lr) * current_q + lr * (reward + gamma * max_future_q)\n",
    "    q_table[discrete_state + (action,)] = new_q\n",
    "    discrete_state = new_discrete_state\n",
    "\n",
    "    if done:\n",
    "        print(f\"Breaking at ep: {e}; Reward: {microgrid.log.loc[:, pd.IndexSlice['balance', :, 'shaped_reward']].sum().iloc[0]}; Exploration Probability: {exploration_proba}\")\n",
    "        break"
   ]
  },
  {
   "cell_type": "code",
   "execution_count": 182,
   "id": "ef39ffd8-6d1b-4065-8239-11fc9aefc8b6",
   "metadata": {},
   "outputs": [
    {
     "data": {
      "image/png": "[encoded data removed]",
      "text/plain": [
       "<Figure size 640x480 with 1 Axes>"
      ]
     },
     "metadata": {},
     "output_type": "display_data"
    },
    {
     "data": {
      "image/png": "[encoded data removed]",
      "text/plain": [
       "<Figure size 640x480 with 1 Axes>"
      ]
     },
     "metadata": {},
     "output_type": "display_data"
    }
   ],
   "source": [
    "microgrid.log.loc[:, pd.IndexSlice[:, :, \"reward\"]].cumsum().plot()\n",
    "microgrid.log.loc[:, pd.IndexSlice[\"balance\", :, \"shaped_reward\"]].cumsum().plot()\n",
    "plt.show()"
   ]
  },
  {
   "cell_type": "code",
   "execution_count": 193,
   "id": "8791c9fa-0e0f-4ea3-baf3-d70f9a3e5c58",
   "metadata": {},
   "outputs": [
    {
     "data": {
      "text/plain": [
       "Dict('balancing': Tuple(Box([], [], (0,), float64)), 'battery': Tuple(Box(0.0, 1.0, (2,), float64)), 'genset': Tuple(Box(0.0, 1.0, (4,), float64)), 'grid': Tuple(Box(0.0, 1.0, (4,), float64)), 'load': Tuple(Box(0.0, 1.0, (1,), float64)), 'solar_pv': Tuple(Box(0.0, 1.0, (1,), float64)), 'wind_turbine': Tuple(Box(0.0, 1.0, (1,), float64)))"
      ]
     },
     "execution_count": 193,
     "metadata": {},
     "output_type": "execute_result"
    }
   ],
   "source": [
    "microgrid.observation_space"
   ]
  },
  {
   "cell_type": "code",
   "execution_count": 195,
   "id": "473c464f-738d-46c0-871f-4ed5aa4942f4",
   "metadata": {},
   "outputs": [
    {
     "data": {
      "text/plain": [
       "[(PriorityListElement(module=('genset', 0), module_actions=2, action=1, marginal_cost=0.55),\n",
       "  PriorityListElement(module=('battery', 0), module_actions=1, action=0, marginal_cost=0.95),\n",
       "  PriorityListElement(module=('grid', 0), module_actions=1, action=0, marginal_cost=0.06)),\n",
       " (PriorityListElement(module=('genset', 0), module_actions=2, action=1, marginal_cost=0.55),\n",
       "  PriorityListElement(module=('grid', 0), module_actions=1, action=0, marginal_cost=0.06),\n",
       "  PriorityListElement(module=('battery', 0), module_actions=1, action=0, marginal_cost=0.95)),\n",
       " (PriorityListElement(module=('battery', 0), module_actions=1, action=0, marginal_cost=0.95),\n",
       "  PriorityListElement(module=('genset', 0), module_actions=2, action=1, marginal_cost=0.55),\n",
       "  PriorityListElement(module=('grid', 0), module_actions=1, action=0, marginal_cost=0.06)),\n",
       " (PriorityListElement(module=('battery', 0), module_actions=1, action=0, marginal_cost=0.95),\n",
       "  PriorityListElement(module=('grid', 0), module_actions=1, action=0, marginal_cost=0.06),\n",
       "  PriorityListElement(module=('genset', 0), module_actions=2, action=1, marginal_cost=0.55)),\n",
       " (PriorityListElement(module=('grid', 0), module_actions=1, action=0, marginal_cost=0.06),\n",
       "  PriorityListElement(module=('genset', 0), module_actions=2, action=1, marginal_cost=0.55),\n",
       "  PriorityListElement(module=('battery', 0), module_actions=1, action=0, marginal_cost=0.95)),\n",
       " (PriorityListElement(module=('grid', 0), module_actions=1, action=0, marginal_cost=0.06),\n",
       "  PriorityListElement(module=('battery', 0), module_actions=1, action=0, marginal_cost=0.95),\n",
       "  PriorityListElement(module=('genset', 0), module_actions=2, action=1, marginal_cost=0.55))]"
      ]
     },
     "execution_count": 195,
     "metadata": {},
     "output_type": "execute_result"
    }
   ],
   "source": [
    "microgrid.actions_list"
   ]
  },
  {
   "cell_type": "code",
   "execution_count": 203,
   "id": "b9a98bb1-e5d2-407a-a808-4a73f3695141",
   "metadata": {},
   "outputs": [
    {
     "name": "stdout",
     "output_type": "stream",
     "text": [
      "fixed\n",
      "sources\n",
      "sinks\n",
      "source_and_sinks\n",
      "flex\n",
      "controllable\n"
     ]
    }
   ],
   "source": [
    "for module in microgrid.modules:\n",
    "    print(module)"
   ]
  },
  {
   "cell_type": "code",
   "execution_count": 208,
   "id": "9d3736fe-e6b7-4c26-8d70-9b352e8cfd53",
   "metadata": {},
   "outputs": [
    {
     "data": {
      "text/plain": [
       "{\n",
       "  \"load\": \"[LoadModule(time_series=<class 'numpy.ndarray'>, forecaster=NoForecaster, forecast_horizon=0, forecaster_increase_uncertainty=False, forecaster_relative_noise=False, initial_step=0, final_step=8640, normalized_action_bounds=<class 'tuple'>, raise_errors=False)]\"\n",
       "}"
      ]
     },
     "execution_count": 208,
     "metadata": {},
     "output_type": "execute_result"
    }
   ],
   "source": [
    "microgrid.fixed"
   ]
  },
  {
   "cell_type": "code",
   "execution_count": 214,
   "id": "64754962-8ab5-49f0-8bbe-04194d5cce8f",
   "metadata": {},
   "outputs": [
    {
     "data": {
      "text/plain": [
       "{\n",
       "  \"solar_pv\": \"[RenewableModuleCustom(time_series=<class 'numpy.ndarray'>, raise_errors=False, forecaster=NoForecaster, forecast_horizon=0, forecaster_increase_uncertainty=False, forecaster_relative_noise=False, initial_step=0, final_step=8640, normalized_action_bounds=<class 'tuple'>, provided_energy_name=renewable_used, operating_cost=0.15)]\",\n",
       "  \"wind_turbine\": \"[RenewableModuleCustom(time_series=<class 'numpy.ndarray'>, raise_errors=False, forecaster=NoForecaster, forecast_horizon=0, forecaster_increase_uncertainty=False, forecaster_relative_noise=False, initial_step=0, final_step=8640, normalized_action_bounds=<class 'tuple'>, provided_energy_name=renewable_used, operating_cost=0.085)]\",\n",
       "  \"balancing\": \"[UnbalancedEnergyModule(raise_errors=False, initial_step=0, loss_load_cost=10, overgeneration_cost=2, normalized_action_bounds=<class 'tuple'>)]\"\n",
       "}"
      ]
     },
     "execution_count": 214,
     "metadata": {},
     "output_type": "execute_result"
    }
   ],
   "source": [
    "microgrid.flex"
   ]
  },
  {
   "cell_type": "code",
   "execution_count": 215,
   "id": "64d344a9-3632-4c7d-8004-daa4e815b4f6",
   "metadata": {},
   "outputs": [
    {
     "data": {
      "text/plain": [
       "{\n",
       "  \"genset\": \"[GensetModule(running_min_production=0, running_max_production=600, genset_cost=0.55, co2_per_unit=0.0, cost_per_unit_co2=0.0, start_up_time=0, wind_down_time=0, allow_abortion=True, init_start_up=True, initial_step=0, normalized_action_bounds=<class 'tuple'>, raise_errors=False, provided_energy_name=genset_production)]\",\n",
       "  \"battery\": \"[BatteryModule(min_capacity=15, max_capacity=285, max_charge=2.5, max_discharge=2.5, efficiency=0.99, battery_cost_cycle=0.95, battery_transition_model=BatteryTransitionModel(), init_charge=None, init_soc=0.1, initial_step=0, normalized_action_bounds=<class 'tuple'>, raise_errors=False)]\",\n",
       "  \"grid\": \"[GridModule(max_import=10000, max_export=10000)]\"\n",
       "}"
      ]
     },
     "execution_count": 215,
     "metadata": {},
     "output_type": "execute_result"
    }
   ],
   "source": [
    "microgrid.controllable"
   ]
  },
  {
   "cell_type": "code",
   "execution_count": null,
   "id": "19f6edd2-42ed-4eea-8bf5-a0333455a752",
   "metadata": {},
   "outputs": [],
   "source": []
  },
  {
   "cell_type": "code",
   "execution_count": null,
   "id": "b81f601e-5c8b-483a-9aa7-05cb536303f9",
   "metadata": {},
   "outputs": [],
   "source": []
  },
  {
   "cell_type": "code",
   "execution_count": null,
   "id": "ea4a351b-deb9-4507-aad9-a7f11a7dff27",
   "metadata": {},
   "outputs": [],
   "source": []
  },
  {
   "cell_type": "code",
   "execution_count": 191,
   "id": "e257fb09-9477-4291-8826-7d176ae27f97",
   "metadata": {},
   "outputs": [
    {
     "data": {
      "text/plain": [
       "array([0.5       , 1.        , 1.        , 0.        , 0.        ,\n",
       "       0.05555556, 0.05555556, 0.5       , 0.        , 0.        ,\n",
       "       0.        , 0.5       , 0.5       ])"
      ]
     },
     "execution_count": 191,
     "metadata": {},
     "output_type": "execute_result"
    }
   ],
   "source": [
    "observation"
   ]
  },
  {
   "cell_type": "code",
   "execution_count": 188,
   "id": "32c8c9e0-1908-4eec-b78b-ba9c0d968209",
   "metadata": {},
   "outputs": [
    {
     "data": {
      "text/plain": [
       "array([1., 1., 1., 1., 1., 1., 1., 1., 1., 1., 1., 1., 1.])"
      ]
     },
     "execution_count": 188,
     "metadata": {},
     "output_type": "execute_result"
    }
   ],
   "source": [
    "discrete_os_win_size"
   ]
  },
  {
   "cell_type": "code",
   "execution_count": 136,
   "id": "a82de452-f23b-46bc-9f10-e8cd6f484ecf",
   "metadata": {},
   "outputs": [],
   "source": [
    "microgrid.log.to_csv(\"test_cost.csv\")"
   ]
  },
  {
   "cell_type": "code",
   "execution_count": 33,
   "id": "776606e6-3f1b-42bc-bbfb-fa85ed94f762",
   "metadata": {},
   "outputs": [
    {
     "name": "stdout",
     "output_type": "stream",
     "text": [
      "Hi\n"
     ]
    }
   ],
   "source": [
    "info[\"grid\"][0][\"provided_energy\"]\n",
    "if \"provided_energy\" in info[\"grid\"][0]:\n",
    "    print(\"Hi\")"
   ]
  },
  {
   "cell_type": "code",
   "execution_count": 80,
   "id": "537b84d7-1d36-4e0d-8969-560380d548a2",
   "metadata": {},
   "outputs": [],
   "source": [
    "def cost_function(reward, info, cost_info):\n",
    "    # Grid\n",
    "    if \"provided_energy\" in info[\"grid\"][0]:\n",
    "        E_u = 0.25 * info[\"grid\"][0][\"provided_energy\"]**2 * cost_info[\"grid\"][0][\"production_marginal_cost\"] +  0.5 * info[\"grid\"][0][\"provided_energy\"] * cost_info[\"grid\"][0][\"production_marginal_cost\"]\n",
    "    else: \n",
    "        E_u = 0\n",
    "    if \"absorbed_energy\" in info[\"grid\"][0]:\n",
    "        S_u = info[\"grid\"][0][\"absorbed_energy\"] * cost_info[\"grid\"][0][\"absorption_marginal_cost\"]\n",
    "    else:\n",
    "        S_u = 0\n",
    "\n",
    "    # Solar\n",
    "    E_s = info[\"solar_pv\"][0][\"provided_energy\"]\n",
    "    C_s = cost_info[\"solar_pv\"][0][\"production_marginal_cost\"]\n",
    "\n",
    "    # Wind\n",
    "    E_w = info[\"wind_turbine\"][0][\"provided_energy\"]\n",
    "    C_w = cost_info[\"wind_turbine\"][0][\"production_marginal_cost\"]\n",
    "\n",
    "    # Generator\n",
    "    E_g = info[\"genset\"][0][\"provided_energy\"]\n",
    "    C_g = cost_info[\"genset\"][0][\"production_marginal_cost\"]\n",
    "\n",
    "    # Battery\n",
    "    E_b = info[\"battery\"][0][\"absorbed_energy\"] if \"absorbed_energy\" in info[\"battery\"][0] else info[\"battery\"][0][\"provided_energy\"]\n",
    "    C_b = cost_info[\"battery\"][0][\"production_marginal_cost\"]\n",
    "    \n",
    "    # Microgrid\n",
    "    O_m = E_s * C_s + E_w * C_w + E_g * C_g + E_b * C_b\n",
    "\n",
    "    reward = -(E_u + O_m - S_u) \n",
    "\n",
    "    return reward"
   ]
  },
  {
   "cell_type": "code",
   "execution_count": 81,
   "id": "eb4b633c-26a3-4e3b-ac5e-5c19affae990",
   "metadata": {},
   "outputs": [
    {
     "data": {
      "text/plain": [
       "0.13956671233474083"
      ]
     },
     "execution_count": 81,
     "metadata": {},
     "output_type": "execute_result"
    }
   ],
   "source": [
    "r = 0\n",
    "cost_function(r, info, microgrid.get_cost_info())"
   ]
  },
  {
   "cell_type": "code",
   "execution_count": 82,
   "id": "8de73a95-e18b-4905-8fa9-b9455f600829",
   "metadata": {},
   "outputs": [
    {
     "data": {
      "text/plain": [
       "0"
      ]
     },
     "execution_count": 82,
     "metadata": {},
     "output_type": "execute_result"
    }
   ],
   "source": [
    "r"
   ]
  },
  {
   "cell_type": "code",
   "execution_count": null,
   "id": "73ce93ee-0734-49bb-b52f-4b48f8bd1d9e",
   "metadata": {},
   "outputs": [],
   "source": []
  }
 ],
 "metadata": {
  "kernelspec": {
   "display_name": "Python 3 (ipykernel)",
   "language": "python",
   "name": "python3"
  },
  "language_info": {
   "codemirror_mode": {
    "name": "ipython",
    "version": 3
   },
   "file_extension": ".py",
   "mimetype": "text/x-python",
   "name": "python",
   "nbconvert_exporter": "python",
   "pygments_lexer": "ipython3",
   "version": "3.10.13"
  }
 },
 "nbformat": 4,
 "nbformat_minor": 5
}
